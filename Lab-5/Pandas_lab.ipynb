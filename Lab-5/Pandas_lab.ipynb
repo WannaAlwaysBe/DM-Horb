{
 "cells": [
  {
   "cell_type": "markdown",
   "id": "careful-recognition",
   "metadata": {},
   "source": [
    "#  Лабораторна робота \"Обробка табличних даних засобами бібліотеки Pandas\"\n",
    "\n",
    "__Метою__ лабораторної роботи є вивчення технологій первинного аналізу даних в середовищі бібліотеки Pandas, а саме здобуття навичок:\n",
    "- працювати з даними використовуючи мову Python та пакет Pandas\n",
    "- робити передобробку даних\n",
    "- знаходити прості закономірності у даних"
   ]
  },
  {
   "cell_type": "code",
   "execution_count": null,
   "id": "previous-wrong",
   "metadata": {},
   "outputs": [],
   "source": [
    "# підключити бібліотеки Pandas та NumPy\n",
    "import pandas as pd\n",
    "import numpy as np"
   ]
  },
  {
   "cell_type": "markdown",
   "id": "found-proposition",
   "metadata": {
    "heading_collapsed": true
   },
   "source": [
    "## 1. Створення  DataFrame\n",
    "\n",
    "__DataFrame__ — це двовимірна неоднорідна таблична структура даних із змінюваними розмірами з іменованими вісями (рядками та стовпцями)"
   ]
  },
  {
   "cell_type": "markdown",
   "id": "martial-bristol",
   "metadata": {
    "heading_collapsed": true,
    "hidden": true
   },
   "source": [
    "### ПРИКЛАДИ"
   ]
  },
  {
   "cell_type": "code",
   "execution_count": null,
   "id": "interesting-mixer",
   "metadata": {
    "hidden": true
   },
   "outputs": [],
   "source": [
    "# створити DataFrame з 1 колонкою з python-списка\n",
    "df = pd.DataFrame([\"Петя\", \"Вася\", \"Микола\"])\n",
    "print(df)\n",
    "print(type(df))"
   ]
  },
  {
   "cell_type": "code",
   "execution_count": null,
   "id": "exact-organic",
   "metadata": {
    "hidden": true
   },
   "outputs": [],
   "source": [
    "# створити DataFrame з np-матриці розміром 10х10 випадкових чисел\n",
    "mat = np.random.randint(100, 500, (10,10), dtype=\"int16\")\n",
    "print(mat)\n",
    "df = pd.DataFrame(mat)\n",
    "df"
   ]
  },
  {
   "cell_type": "code",
   "execution_count": null,
   "id": "satellite-pension",
   "metadata": {
    "hidden": true
   },
   "outputs": [],
   "source": [
    "# створити DataFrame з 2-мірного випадкового масиву з іменованими колонками\n",
    "arr = np.random.random((5,3))\n",
    "print(arr)\n",
    "df = pd.DataFrame(arr, columns=[\"колонка 1\", \"колонка 2\", \"колонка 3\"])\n",
    "df"
   ]
  },
  {
   "cell_type": "code",
   "execution_count": null,
   "id": "interpreted-swedish",
   "metadata": {
    "hidden": true
   },
   "outputs": [],
   "source": [
    "# створити DataFrame з python-словника в якому ключ - це ім'я, а значення - \n",
    "# це масив з 5-ти випадкових чисел з модифікованими індексами рядків\n",
    "d = {\"Петя\": np.random.random(5),\n",
    "    \"Вася\" : np.random.random(5),\n",
    "    \"Микола\":np.random.random(5)\n",
    "    }\n",
    "pd.DataFrame(d, index=[10,20,30,40,50])"
   ]
  },
  {
   "cell_type": "code",
   "execution_count": null,
   "id": "fallen-amber",
   "metadata": {
    "hidden": true
   },
   "outputs": [],
   "source": [
    "# створити dataFrame з ітеруємого об'єкта\n",
    "name = [\"Вася\", \"Петя\", \"Микола\"]\n",
    "rik = [2001, 2000, 2003]\n",
    "name_rik = list(zip(name, rik))\n",
    "print(name_rik)\n",
    "df = pd.DataFrame(name_rik, columns=[\"Ім'я\", \"Рік народження\"])\n",
    "df"
   ]
  },
  {
   "cell_type": "code",
   "execution_count": null,
   "id": "cleared-possible",
   "metadata": {
    "hidden": true
   },
   "outputs": [],
   "source": [
    "str(name_rik[0])"
   ]
  },
  {
   "cell_type": "code",
   "execution_count": null,
   "id": "amazing-million",
   "metadata": {
    "hidden": true,
    "scrolled": true
   },
   "outputs": [],
   "source": [
    "!echo \"Вася, 2001\\nПетя, 2000,\\nМикола,2003\\n\" > file.csv\n",
    "!cat file.csv\n",
    "# створити DataFrame з csv-файлу\n",
    "df = pd.read_csv(\"file.csv\", names=[\"Ім'я\", \"Рік народження\"])\n",
    "df"
   ]
  },
  {
   "cell_type": "markdown",
   "id": "periodic-curve",
   "metadata": {
    "heading_collapsed": true,
    "hidden": true
   },
   "source": [
    "### ЗАВДАННЯ"
   ]
  },
  {
   "cell_type": "code",
   "execution_count": null,
   "id": "mounted-corps",
   "metadata": {
    "hidden": true
   },
   "outputs": [],
   "source": [
    "# ЗАВДАННЯ 1.1: створити датафрейм з списку 10-ти простих чисел\n",
    "df1_1 = ..."
   ]
  },
  {
   "cell_type": "code",
   "execution_count": null,
   "id": "ignored-richards",
   "metadata": {
    "hidden": true
   },
   "outputs": [],
   "source": [
    "# ЗАВДАННЯ 1.2: створити датафрейм з матриці 5х6 чисел з плаваючою точкою\n",
    "df1_2 = ..."
   ]
  },
  {
   "cell_type": "markdown",
   "id": "pharmaceutical-slovakia",
   "metadata": {
    "hidden": true
   },
   "source": [
    "ЗАВДАННЯ 1.3: створити  DataFrame наступного вигляду:\n",
    "\n",
    "|ім'я | прізвище| рік народження | телефон\n",
    "|:-----|:------|:-----:|:-------:\n",
    "|Петро| Петров| 2000| 222-222-2222\n",
    "|Іван| Іванов| 2002| 333-333-3333\n",
    "|Степан| Степанов| 2001| 444-444-4444"
   ]
  },
  {
   "cell_type": "code",
   "execution_count": null,
   "id": "patent-chair",
   "metadata": {
    "hidden": true
   },
   "outputs": [],
   "source": [
    "df1_3 = ..."
   ]
  },
  {
   "cell_type": "code",
   "execution_count": null,
   "id": "sixth-engine",
   "metadata": {
    "hidden": true
   },
   "outputs": [],
   "source": [
    "# ЗАВДАННЯ 1.4: створити датафрейм з 20 перших рядків excel-файлу, \n",
    "# який розташовано за адресою: \n",
    "# https://file-examples-com.github.io/uploads/2017/02/file_example_XLS_100.xls\n",
    "df1_4 = ..."
   ]
  },
  {
   "cell_type": "markdown",
   "id": "european-kernel",
   "metadata": {
    "heading_collapsed": true
   },
   "source": [
    "## 2. Інспектування DataFrame\n",
    "\n",
    "__Інспектування__ - це процедури вивчення внутрішньої структури даних та вмісту датафрейма"
   ]
  },
  {
   "cell_type": "markdown",
   "id": "a2c138e5",
   "metadata": {
    "heading_collapsed": true,
    "hidden": true,
    "tags": []
   },
   "source": [
    "### ПРИКЛАДИ"
   ]
  },
  {
   "cell_type": "code",
   "execution_count": null,
   "id": "severe-mississippi",
   "metadata": {
    "code_folding": [],
    "hidden": true
   },
   "outputs": [],
   "source": [
    "# завантаження датасету `titanic` (https://ansmirnov.ru/kaggle-titanic-dataset/)\n",
    "url = \"https://raw.githubusercontent.com/datasciencedojo/datasets/master/titanic.csv\"\n",
    "titanic = pd.read_csv(url)"
   ]
  },
  {
   "cell_type": "code",
   "execution_count": null,
   "id": "dimensional-ordinance",
   "metadata": {
    "hidden": true,
    "scrolled": true
   },
   "outputs": [],
   "source": [
    "# отримати загальну інформацію про датасет\n",
    "titanic.info()"
   ]
  },
  {
   "cell_type": "code",
   "execution_count": null,
   "id": "checked-score",
   "metadata": {
    "hidden": true
   },
   "outputs": [],
   "source": [
    "# вивести перші 3 рядкі\n",
    "titanic.head(3)"
   ]
  },
  {
   "cell_type": "code",
   "execution_count": null,
   "id": "otherwise-jefferson",
   "metadata": {
    "hidden": true
   },
   "outputs": [],
   "source": [
    "# вивести останні 2 рядки\n",
    "titanic.tail(2)"
   ]
  },
  {
   "cell_type": "code",
   "execution_count": null,
   "id": "corporate-frame",
   "metadata": {
    "hidden": true
   },
   "outputs": [],
   "source": [
    "# отримати імена колонок\n",
    "col_names = titanic.columns\n",
    "print(col_names)"
   ]
  },
  {
   "cell_type": "code",
   "execution_count": null,
   "id": "innovative-refrigerator",
   "metadata": {
    "hidden": true
   },
   "outputs": [],
   "source": [
    "# вивести загальну статистику датасету - числові поля\n",
    "titanic.describe()"
   ]
  },
  {
   "cell_type": "code",
   "execution_count": null,
   "id": "thrown-mixture",
   "metadata": {
    "hidden": true
   },
   "outputs": [],
   "source": [
    "# вивести статитсику текстового поля `Sex` \n",
    "titanic['Sex'].describe()"
   ]
  },
  {
   "cell_type": "code",
   "execution_count": null,
   "id": "exempt-restoration",
   "metadata": {
    "hidden": true
   },
   "outputs": [],
   "source": [
    "# перевірити тип колонки датасету\n",
    "type(titanic['Age'])"
   ]
  },
  {
   "cell_type": "code",
   "execution_count": null,
   "id": "catholic-number",
   "metadata": {
    "hidden": true
   },
   "outputs": [],
   "source": [
    "# вивести перші 10 рядків деяких колонок\n",
    "cols = [\"Name\", \"Age\", \"Sex\"]\n",
    "titanic[cols].head(10)"
   ]
  },
  {
   "cell_type": "code",
   "execution_count": null,
   "id": "automotive-hammer",
   "metadata": {
    "hidden": true
   },
   "outputs": [],
   "source": [
    "# вивести рядки з 100 по 110\n",
    "titanic[100:110]"
   ]
  },
  {
   "cell_type": "code",
   "execution_count": null,
   "id": "professional-bernard",
   "metadata": {
    "hidden": true
   },
   "outputs": [],
   "source": [
    "# вивести тільки чоловіків\n",
    "cond = titanic[\"Sex\"] == \"male\"\n",
    "titanic[cond]"
   ]
  },
  {
   "cell_type": "code",
   "execution_count": null,
   "id": "recorded-animal",
   "metadata": {
    "hidden": true
   },
   "outputs": [],
   "source": [
    "# вивести рядки в яких пропущено значення поля `Age`\n",
    "cond = titanic['Age'].isna()\n",
    "titanic[cond].head(3)"
   ]
  },
  {
   "cell_type": "code",
   "execution_count": null,
   "id": "bbddbc6a",
   "metadata": {
    "hidden": true
   },
   "outputs": [],
   "source": [
    "# вивести рядки з пасажирами вік яких з 30 до 50 років\n",
    "cond = titanic['Age'].between(30, 50)\n",
    "titanic[cond]"
   ]
  },
  {
   "cell_type": "markdown",
   "id": "be7b0e62",
   "metadata": {
    "heading_collapsed": true,
    "hidden": true
   },
   "source": [
    "### ЗАВДАННЯ"
   ]
  },
  {
   "cell_type": "code",
   "execution_count": null,
   "id": "d369c6d2",
   "metadata": {
    "hidden": true
   },
   "outputs": [],
   "source": [
    "# ЗАВДАННЯ 2.1: вивести характеристики датасету `titanic`\n",
    "..."
   ]
  },
  {
   "cell_type": "code",
   "execution_count": null,
   "id": "530c3274",
   "metadata": {
    "hidden": true
   },
   "outputs": [],
   "source": [
    "# ЗАВДАННЯ 2.2: вивести статистичні параметри полів `Age` та `Fare` датасету `titanic`\n",
    "..."
   ]
  },
  {
   "cell_type": "code",
   "execution_count": null,
   "id": "53e70e13",
   "metadata": {
    "hidden": true
   },
   "outputs": [],
   "source": [
    "# ЗАВДАННЯ 2.3: пірахувати кількість записів в яких заповнені усі показчики\n",
    "..."
   ]
  },
  {
   "cell_type": "code",
   "execution_count": null,
   "id": "d0eb61fe",
   "metadata": {
    "hidden": true
   },
   "outputs": [],
   "source": [
    "# ЗАВДАННЯ 2.4: пірахувати кількість виживших (survived=1) пасажирів жиночої статі (Sex=`female`)\n",
    "..."
   ]
  },
  {
   "cell_type": "code",
   "execution_count": null,
   "id": "46f68e26",
   "metadata": {
    "hidden": true
   },
   "outputs": [],
   "source": []
  },
  {
   "cell_type": "markdown",
   "id": "63d7216b",
   "metadata": {
    "heading_collapsed": true
   },
   "source": [
    "## 3. Перетворення датафреймів\n",
    "\n",
    "__Перетворення__ - це сукупність операцій та методів для зміни структури та вмісту датафрейму та окремих його елементів"
   ]
  },
  {
   "cell_type": "markdown",
   "id": "b3e6674c",
   "metadata": {
    "heading_collapsed": true,
    "hidden": true
   },
   "source": [
    "### ПРИКЛАДИ"
   ]
  },
  {
   "cell_type": "code",
   "execution_count": null,
   "id": "408c6855",
   "metadata": {
    "code_folding": [],
    "hidden": true
   },
   "outputs": [],
   "source": [
    "d = {\n",
    "    \"ім'я\"    : [\"Петя\", \"Вася\", \"Галя\"],\n",
    "    \"вік\"     : [22, 200 , 21],\n",
    "    \"рейтинг\" : [\"10\", \"3\", \"2\"]\n",
    "}\n",
    "\n",
    "df = pd.DataFrame(d)\n",
    "df"
   ]
  },
  {
   "cell_type": "code",
   "execution_count": null,
   "id": "a2e95984",
   "metadata": {
    "hidden": true
   },
   "outputs": [],
   "source": [
    "# типи колонок та елементів в колонці\n",
    "print(df[\"рейтинг\"].dtype)\n",
    "print(type(df['рейтинг']))"
   ]
  },
  {
   "cell_type": "code",
   "execution_count": null,
   "id": "60d606fc",
   "metadata": {
    "hidden": true
   },
   "outputs": [],
   "source": [
    "# Перетворити тип колонки (показчика) 'рейтинг' в ціле числове\n",
    "df['рейтинг'] = df['рейтинг'].astype(\"int8\")\n",
    "print(df[\"рейтинг\"].dtype)"
   ]
  },
  {
   "cell_type": "code",
   "execution_count": null,
   "id": "ee40f2a3",
   "metadata": {
    "hidden": true
   },
   "outputs": [],
   "source": [
    "# додати колонку \"адреса\"\n",
    "df[\"адреса\"] = [\"Київ\", \"Бровари\", \"Фастів\"]\n",
    "df"
   ]
  },
  {
   "cell_type": "code",
   "execution_count": null,
   "id": "5816731f",
   "metadata": {
    "hidden": true
   },
   "outputs": [],
   "source": [
    "#  збільшити значення \"рейтинг\" на 3\n",
    "df['рейтинг'] = df['рейтинг'] + 3\n",
    "df"
   ]
  },
  {
   "cell_type": "code",
   "execution_count": null,
   "id": "79085f02",
   "metadata": {
    "hidden": true
   },
   "outputs": [],
   "source": [
    "df"
   ]
  },
  {
   "cell_type": "code",
   "execution_count": null,
   "id": "8cf3fc5e",
   "metadata": {
    "hidden": true
   },
   "outputs": [],
   "source": [
    "# виправити значення параметру 'вік' для імені 'Вася'\n",
    "df.loc[1, \"вік\"] = 20\n",
    "df"
   ]
  },
  {
   "cell_type": "code",
   "execution_count": null,
   "id": "872910d8",
   "metadata": {
    "hidden": true
   },
   "outputs": [],
   "source": [
    "# видалити колонку `вік'\n",
    "df.drop(columns='вік', inplace=True)\n",
    "df"
   ]
  },
  {
   "cell_type": "code",
   "execution_count": null,
   "id": "26687e7f",
   "metadata": {
    "hidden": true
   },
   "outputs": [],
   "source": [
    "# вивести 5 перших рядків датафрейму\n",
    "titanic.head(5)"
   ]
  },
  {
   "cell_type": "code",
   "execution_count": null,
   "id": "919c6dc5",
   "metadata": {
    "hidden": true
   },
   "outputs": [],
   "source": [
    "# вивести 3 випадкових рядки датафрейму\n",
    "titanic.sample(3)"
   ]
  },
  {
   "cell_type": "code",
   "execution_count": null,
   "id": "0adbd146",
   "metadata": {
    "hidden": true
   },
   "outputs": [],
   "source": [
    "# відсортувати dataframe `titanic` за віком пасажиров\n",
    "titanic.sort_values('Age')"
   ]
  },
  {
   "cell_type": "code",
   "execution_count": null,
   "id": "e27563a8",
   "metadata": {
    "hidden": true
   },
   "outputs": [],
   "source": [
    "# перейменувати значення в `Embarked` стовпчику:\n",
    "# С - Cherbourg\n",
    "# Q - Queenstown\n",
    "# S - Southampton\n",
    "titanic['Embarked'].replace({\"C\": \"Cherbourg\", \"Q\": \"Queenstown\", \"S\": \"Southampton\"},\n",
    "                           inplace=True)\n",
    "titanic"
   ]
  },
  {
   "cell_type": "code",
   "execution_count": null,
   "id": "b4f6b334",
   "metadata": {
    "hidden": true
   },
   "outputs": [],
   "source": [
    "# підрахувати кількість пасажирів 1-го класу (Pclass=1)\n",
    "cond = titanic['Pclass'] == 1\n",
    "kol_pass = titanic[cond]['PassengerId'].count()\n",
    "kol_pass"
   ]
  },
  {
   "cell_type": "code",
   "execution_count": null,
   "id": "565f0062",
   "metadata": {
    "hidden": true
   },
   "outputs": [],
   "source": [
    "# замінити відсутні номери кают на ''\n",
    "titanic.fillna({\"Cabin\": \"***\"}, inplace=True)\n",
    "titanic.head(3)"
   ]
  },
  {
   "cell_type": "code",
   "execution_count": null,
   "id": "e17482a6",
   "metadata": {
    "hidden": true
   },
   "outputs": [],
   "source": [
    "# видалити рядки в яких є відсутні значення \n",
    "titanic.dropna(axis=0, how='any', inplace=True)\n",
    "titanic.shape"
   ]
  },
  {
   "cell_type": "markdown",
   "id": "f9c8a288",
   "metadata": {
    "heading_collapsed": true,
    "hidden": true
   },
   "source": [
    "### ЗАВДАННЯ"
   ]
  },
  {
   "cell_type": "code",
   "execution_count": null,
   "id": "346419c3",
   "metadata": {
    "hidden": true
   },
   "outputs": [],
   "source": [
    "# ЗАВДАННЯ 3.1: створити датафрейм з словника d\n",
    "d = {\n",
    "    \"ім'я\"    : [\"Петя\", \"Вася\", \"Галя\"],\n",
    "    \"вік\"     : [22, 200 , 21],\n",
    "    \"рейтинг\" : [\"10\", \"3\", \"2\"]\n",
    "}\n",
    "df = ..."
   ]
  },
  {
   "cell_type": "code",
   "execution_count": null,
   "id": "968d2cdc",
   "metadata": {
    "hidden": true
   },
   "outputs": [],
   "source": [
    "# ЗАВДАННЯ 3.2: додати до `df` стовбчик з показчиком \n",
    "# `рік завершення школи` = [2018, 2020, 200]\n",
    "...\n",
    "print(df)"
   ]
  },
  {
   "cell_type": "code",
   "execution_count": null,
   "id": "5651ea12",
   "metadata": {
    "hidden": true
   },
   "outputs": [],
   "source": [
    "# ЗАВДАННЯ 3.3: виправити 'рік завершення школи' з 200 на 2020\n",
    "...\n",
    "print(df)"
   ]
  },
  {
   "cell_type": "code",
   "execution_count": null,
   "id": "c1191231",
   "metadata": {
    "hidden": true
   },
   "outputs": [],
   "source": [
    "# завантаження датасету `titanic` (https://ansmirnov.ru/kaggle-titanic-dataset/)\n",
    "url = \"https://raw.githubusercontent.com/datasciencedojo/datasets/master/titanic.csv\"\n",
    "titanic = pd.read_csv(url)"
   ]
  },
  {
   "cell_type": "code",
   "execution_count": null,
   "id": "a206f3c1",
   "metadata": {
    "hidden": true
   },
   "outputs": [],
   "source": [
    "# ЗАВДАННЯ 3.4: вивести з датасету `titanic` останні 10 записів \n",
    "..."
   ]
  },
  {
   "cell_type": "code",
   "execution_count": null,
   "id": "974e4300",
   "metadata": {
    "hidden": true
   },
   "outputs": [],
   "source": [
    "# ЗАВДАННЯ 3.5: вибрати з датасету `titanic` рядки з пасажирами чоловічої статі віком \n",
    "# від 20 до 30 років, які подорожували 2 класом\n",
    "..."
   ]
  },
  {
   "cell_type": "code",
   "execution_count": null,
   "id": "44126572",
   "metadata": {
    "hidden": true
   },
   "outputs": [],
   "source": [
    "# ЗАВДАННЯ 3.6: видалити з датасету `titanic` рядки з пасажирами у яких відсутня\n",
    "# вартість (fare) квітка\n",
    "df = ...\n",
    "df"
   ]
  },
  {
   "cell_type": "code",
   "execution_count": null,
   "id": "b1614e3e",
   "metadata": {
    "hidden": true
   },
   "outputs": [],
   "source": [
    "# ЗАВДАННЯ 3.7: підрахувати середню вартість квитка у каютах 1-го класу\n",
    "avg_price = ...\n",
    "print(avg_price)"
   ]
  },
  {
   "cell_type": "markdown",
   "id": "9ef297e7",
   "metadata": {
    "heading_collapsed": true
   },
   "source": [
    "## 4. Агрегація датафреймів\n",
    "\n",
    "__Агрегація__ - це функції отримання агрегованих даних шляхом групування об'єктів датафрейма "
   ]
  },
  {
   "cell_type": "markdown",
   "id": "cb9bf24b",
   "metadata": {
    "heading_collapsed": true,
    "hidden": true
   },
   "source": [
    "### ПРИКЛАДИ"
   ]
  },
  {
   "cell_type": "code",
   "execution_count": null,
   "id": "be63d27c",
   "metadata": {
    "hidden": true
   },
   "outputs": [],
   "source": [
    "titanic.head(3)"
   ]
  },
  {
   "cell_type": "code",
   "execution_count": null,
   "id": "6d24da8f",
   "metadata": {
    "hidden": true
   },
   "outputs": [],
   "source": [
    "# підрахувати середній вік пасажирів по класам кают\n",
    "group_by_class = titanic.groupby([\"Pclass\"])\n",
    "avg_age = group_by_class[\"Age\"].mean()\n",
    "print(avg_age)"
   ]
  },
  {
   "cell_type": "code",
   "execution_count": null,
   "id": "5ab45447",
   "metadata": {
    "hidden": true,
    "scrolled": true
   },
   "outputs": [],
   "source": [
    "# підрахувати кількість чоловіків та жінок по класам кают\n",
    "man_woman_count = titanic.groupby([\"Pclass\", \"Sex\"])[\"Sex\"].count()\n",
    "man_woman_count"
   ]
  },
  {
   "cell_type": "code",
   "execution_count": null,
   "id": "519fd08a",
   "metadata": {
    "hidden": true,
    "scrolled": true
   },
   "outputs": [],
   "source": [
    "# створити таблицю в якій підраховано середню вартість білетів (Fare) в залежності\n",
    "# від місця посадки (Embarked) по класам кают\n",
    "tickets_cost = titanic.pivot_table(values=\"Fare\", index=\"Pclass\", columns=\"Embarked\",\n",
    "                   aggfunc=np.mean)\n",
    "tickets_cost"
   ]
  },
  {
   "cell_type": "markdown",
   "id": "1953afb7",
   "metadata": {
    "heading_collapsed": true,
    "hidden": true
   },
   "source": [
    "### ЗАВДАННЯ"
   ]
  },
  {
   "cell_type": "code",
   "execution_count": null,
   "id": "a0161713",
   "metadata": {
    "hidden": true
   },
   "outputs": [],
   "source": [
    "# ЗАВДАННЯ 4.1: отримати відомості про максимальний вік жінок та чоловіків\n",
    "max_age = ...\n",
    "print(max_age)"
   ]
  },
  {
   "cell_type": "markdown",
   "id": "f7551432",
   "metadata": {
    "hidden": true
   },
   "source": [
    "___ЗАВДАННЯ 4.2___\n",
    "\n",
    "на основі даних з `titanic` побудувати таблицю наступного вигляду:\n",
    "\n",
    "Pclass  |Male  | Female\n",
    "--------|------|-------\n",
    "1  | ... | ...\n",
    "2  | ... | ...\n",
    "3  | ... | ...\n",
    "\n",
    "де замість `...` повинно бути кількість виживших (Survived) чоловіків та жінок відповідно"
   ]
  },
  {
   "cell_type": "code",
   "execution_count": null,
   "id": "5dea747e",
   "metadata": {
    "hidden": true
   },
   "outputs": [],
   "source": [
    "surv_table = ...\n",
    "surv_table"
   ]
  }
 ],
 "metadata": {
  "kernelspec": {
   "display_name": "Python 3 (ipykernel)",
   "language": "python",
   "name": "python3"
  },
  "language_info": {
   "codemirror_mode": {
    "name": "ipython",
    "version": 3
   },
   "file_extension": ".py",
   "mimetype": "text/x-python",
   "name": "python",
   "nbconvert_exporter": "python",
   "pygments_lexer": "ipython3",
   "version": "3.9.4"
  },
  "toc-autonumbering": true,
  "toc-showcode": true,
  "toc-showmarkdowntxt": false,
  "toc-showtags": false,
  "varInspector": {
   "cols": {
    "lenName": 16,
    "lenType": 16,
    "lenVar": 40
   },
   "kernels_config": {
    "python": {
     "delete_cmd_postfix": "",
     "delete_cmd_prefix": "del ",
     "library": "var_list.py",
     "varRefreshCmd": "print(var_dic_list())"
    },
    "r": {
     "delete_cmd_postfix": ") ",
     "delete_cmd_prefix": "rm(",
     "library": "var_list.r",
     "varRefreshCmd": "cat(var_dic_list()) "
    }
   },
   "types_to_exclude": [
    "module",
    "function",
    "builtin_function_or_method",
    "instance",
    "_Feature"
   ],
   "window_display": false
  }
 },
 "nbformat": 4,
 "nbformat_minor": 5
}
